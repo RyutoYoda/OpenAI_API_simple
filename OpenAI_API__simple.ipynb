{
  "nbformat": 4,
  "nbformat_minor": 0,
  "metadata": {
    "colab": {
      "provenance": [],
      "authorship_tag": "ABX9TyPlGfVNXnVjVQuy+b6UELmm",
      "include_colab_link": true
    },
    "kernelspec": {
      "name": "python3",
      "display_name": "Python 3"
    },
    "language_info": {
      "name": "python"
    }
  },
  "cells": [
    {
      "cell_type": "markdown",
      "metadata": {
        "id": "view-in-github",
        "colab_type": "text"
      },
      "source": [
        "<a href=\"https://colab.research.google.com/github/RyutoYoda/OpenAI_API_simple/blob/main/OpenAI_API__simple.ipynb\" target=\"_parent\"><img src=\"https://colab.research.google.com/assets/colab-badge.svg\" alt=\"Open In Colab\"/></a>"
      ]
    },
    {
      "cell_type": "code",
      "execution_count": 1,
      "metadata": {
        "colab": {
          "base_uri": "https://localhost:8080/"
        },
        "id": "uSTX734lqG3q",
        "outputId": "1065f7d8-a411-4278-d014-e3c7609cf8b2"
      },
      "outputs": [
        {
          "output_type": "stream",
          "name": "stdout",
          "text": [
            "Collecting openai\n",
            "  Downloading openai-0.27.8-py3-none-any.whl (73 kB)\n",
            "\u001b[?25l     \u001b[90m━━━━━━━━━━━━━━━━━━━━━━━━━━━━━━━━━━━━━━━━\u001b[0m \u001b[32m0.0/73.6 kB\u001b[0m \u001b[31m?\u001b[0m eta \u001b[36m-:--:--\u001b[0m\r\u001b[2K     \u001b[91m━━━━━━━━━━━━━━━━━━━━━━\u001b[0m\u001b[90m╺\u001b[0m\u001b[90m━━━━━━━━━━━━━━━━━\u001b[0m \u001b[32m41.0/73.6 kB\u001b[0m \u001b[31m1.2 MB/s\u001b[0m eta \u001b[36m0:00:01\u001b[0m\r\u001b[2K     \u001b[90m━━━━━━━━━━━━━━━━━━━━━━━━━━━━━━━━━━━━━━━━\u001b[0m \u001b[32m73.6/73.6 kB\u001b[0m \u001b[31m1.1 MB/s\u001b[0m eta \u001b[36m0:00:00\u001b[0m\n",
            "\u001b[?25hRequirement already satisfied: requests>=2.20 in /usr/local/lib/python3.10/dist-packages (from openai) (2.27.1)\n",
            "Requirement already satisfied: tqdm in /usr/local/lib/python3.10/dist-packages (from openai) (4.65.0)\n",
            "Requirement already satisfied: aiohttp in /usr/local/lib/python3.10/dist-packages (from openai) (3.8.5)\n",
            "Requirement already satisfied: urllib3<1.27,>=1.21.1 in /usr/local/lib/python3.10/dist-packages (from requests>=2.20->openai) (1.26.16)\n",
            "Requirement already satisfied: certifi>=2017.4.17 in /usr/local/lib/python3.10/dist-packages (from requests>=2.20->openai) (2023.7.22)\n",
            "Requirement already satisfied: charset-normalizer~=2.0.0 in /usr/local/lib/python3.10/dist-packages (from requests>=2.20->openai) (2.0.12)\n",
            "Requirement already satisfied: idna<4,>=2.5 in /usr/local/lib/python3.10/dist-packages (from requests>=2.20->openai) (3.4)\n",
            "Requirement already satisfied: attrs>=17.3.0 in /usr/local/lib/python3.10/dist-packages (from aiohttp->openai) (23.1.0)\n",
            "Requirement already satisfied: multidict<7.0,>=4.5 in /usr/local/lib/python3.10/dist-packages (from aiohttp->openai) (6.0.4)\n",
            "Requirement already satisfied: async-timeout<5.0,>=4.0.0a3 in /usr/local/lib/python3.10/dist-packages (from aiohttp->openai) (4.0.2)\n",
            "Requirement already satisfied: yarl<2.0,>=1.0 in /usr/local/lib/python3.10/dist-packages (from aiohttp->openai) (1.9.2)\n",
            "Requirement already satisfied: frozenlist>=1.1.1 in /usr/local/lib/python3.10/dist-packages (from aiohttp->openai) (1.4.0)\n",
            "Requirement already satisfied: aiosignal>=1.1.2 in /usr/local/lib/python3.10/dist-packages (from aiohttp->openai) (1.3.1)\n",
            "Installing collected packages: openai\n",
            "Successfully installed openai-0.27.8\n"
          ]
        }
      ],
      "source": [
        "!pip install openai"
      ]
    },
    {
      "cell_type": "code",
      "source": [
        "import openai\n",
        "\n",
        "api_key = \"\"\n",
        "openai.api_key = api_key"
      ],
      "metadata": {
        "id": "3pQMQUCaqW2J"
      },
      "execution_count": 2,
      "outputs": []
    },
    {
      "cell_type": "code",
      "source": [
        "prompt = \"You are an AI-powered virtual lawyer specializing in providing legal information. Users come to you with various legal questions seeking guidance. Imagine you're responding to a user's question about employment contracts. The user asks, 'What are the key elements that should be included in an employment contract?' Provide a detailed and informative response as if you were a knowledgeable lawyer.\"\n",
        "#開発者側のプロンプト。「あなたは法律に詳しいAI弁護士です。ユーザーからさまざまな法律の質問を受けてアドバイスを提供します。以下のような質問に対する弁護士としての回答を生成してください。\\n\\nユーザーの質問: 労働契約書に含めるべき重要な要素は何ですか？」\n",
        "response = openai.Completion.create(\n",
        "    engine=\"text-davinci-003\",\n",
        "    prompt=prompt,\n",
        "    max_tokens=300\n",
        ")\n",
        "\n",
        "legal_response = response.choices[0].text.strip()"
      ],
      "metadata": {
        "id": "wIkV6jPyrBVT"
      },
      "execution_count": 3,
      "outputs": []
    },
    {
      "cell_type": "code",
      "source": [
        "#ユーザーの質問、「労働契約書に含めるべき重要な要素は何ですか？」\n",
        "print(\"User's Question: What are the key elements that should be included in an employment contract?\")\n",
        "print(\"Legal Response:\\n\", legal_response)"
      ],
      "metadata": {
        "colab": {
          "base_uri": "https://localhost:8080/"
        },
        "id": "uYq776OvsicD",
        "outputId": "943d26c4-f5b0-4dd4-c301-d3bc4cb7fa6b"
      },
      "execution_count": 4,
      "outputs": [
        {
          "output_type": "stream",
          "name": "stdout",
          "text": [
            "User's Question: What are the key elements that should be included in an employment contract?\n",
            "Legal Response:\n",
            " The key elements that should be included in an employment contract are as follows:\n",
            "\n",
            "1. Description of services - This should clearly outline what job or service the employee is expected to perform.\n",
            "\n",
            "2. Legal entity of the employer -The legal name of the employing company, LLC, or other organisation should be listed in the document.\n",
            "\n",
            "3. Pay rate -The amount of money the employee will receive for the services provided should be detailed.\n",
            "\n",
            "4. Hours of work - This should outline the number of hours an employee is expected to work under the contract.\n",
            "\n",
            "5. Vacation, sickness, and leave - This should detail the employee’s entitlement to vacation, paid time off, etc.\n",
            "\n",
            "6. Termination of contract - This should detail the conditions of termination of the contract, such as what triggers termination and any consequences.\n",
            "\n",
            "7. Confidentiality - This should include a provision that the employee can not divulge any of the employer’s confidential information or secrets about their operations.\n",
            "\n",
            "8. Intellectual property - This should detail the rights and obligations of both parties concerning any intellectual property created or used during the course of the contract.\n",
            "\n",
            "9. Representation and warranties - This should detail the promises made by the employee during the course of the contract.\n",
            "\n",
            "10. Indemnification - This should ensure that the employee will not hold the employer liable for any detrimental actions should they occur.\n",
            "\n",
            "These elements\n"
          ]
        }
      ]
    }
  ]
}